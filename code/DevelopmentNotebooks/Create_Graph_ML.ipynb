{
 "cells": [
  {
   "cell_type": "markdown",
   "id": "98993fed",
   "metadata": {},
   "source": [
    "# Project 3, Part 2: Create a graph database in Neo4j for the Movie Lens \n",
    "\n",
    "University of California, Berkeley\n",
    "\n",
    "Master of Information and Data Science (MIDS) program\n",
    "\n",
    "w205 - Fundamentals of Data Engineering"
   ]
  },
  {
   "cell_type": "code",
   "execution_count": 1,
   "id": "181aa6d1",
   "metadata": {},
   "outputs": [],
   "source": [
    "# import statements \n",
    "\n",
    "import neo4j\n",
    "\n",
    "import csv\n",
    "\n",
    "import math\n",
    "import numpy as np\n",
    "import pandas as pd\n",
    "\n",
    "import psycopg2"
   ]
  },
  {
   "cell_type": "markdown",
   "id": "c8039023",
   "metadata": {},
   "source": [
    "### Supporting Code"
   ]
  },
  {
   "cell_type": "code",
   "execution_count": 2,
   "id": "5bfbcea3",
   "metadata": {},
   "outputs": [],
   "source": [
    "driver = neo4j.GraphDatabase.driver(uri=\"neo4j://neo4j:7687\", auth=(\"neo4j\",\"ucb_mids_w205\"))"
   ]
  },
  {
   "cell_type": "code",
   "execution_count": 3,
   "id": "32451796",
   "metadata": {},
   "outputs": [],
   "source": [
    "session = driver.session(database=\"neo4j\")"
   ]
  },
  {
   "cell_type": "code",
   "execution_count": 4,
   "id": "1bbfae56",
   "metadata": {},
   "outputs": [],
   "source": [
    "def my_neo4j_wipe_out_database():\n",
    "    \"wipe out database by deleting all nodes and relationships\"\n",
    "    \n",
    "    query = \"match (node)-[relationship]->() delete node, relationship\"\n",
    "    session.run(query)\n",
    "    \n",
    "    query = \"match (node) delete node\"\n",
    "    session.run(query)"
   ]
  },
  {
   "cell_type": "code",
   "execution_count": 5,
   "id": "54c542b4",
   "metadata": {},
   "outputs": [],
   "source": [
    "def my_neo4j_run_query_pandas(query, **kwargs):\n",
    "    \"run a query and return the results in a pandas dataframe\"\n",
    "    \n",
    "    result = session.run(query, **kwargs)\n",
    "    \n",
    "    df = pd.DataFrame([r.values() for r in result], columns=result.keys())\n",
    "    \n",
    "    return df"
   ]
  },
  {
   "cell_type": "code",
   "execution_count": 6,
   "id": "27704953",
   "metadata": {},
   "outputs": [],
   "source": [
    "def my_neo4j_number_nodes_relationships():\n",
    "    \"print the number of nodes and relationships\"\n",
    "   \n",
    "    \n",
    "    query = \"\"\"\n",
    "        match (n) \n",
    "        return n.name as node_name, labels(n) as labels\n",
    "        order by n.name\n",
    "    \"\"\"\n",
    "    \n",
    "    df = my_neo4j_run_query_pandas(query)\n",
    "    \n",
    "    number_nodes = df.shape[0]\n",
    "    \n",
    "    \n",
    "    query = \"\"\"\n",
    "        match (n1)-[r]->(n2) \n",
    "        return n1.name as node_name_1, labels(n1) as node_1_labels, \n",
    "            type(r) as relationship_type, n2.name as node_name_2, labels(n2) as node_2_labels\n",
    "        order by node_name_1, node_name_2\n",
    "    \"\"\"\n",
    "    \n",
    "    df = my_neo4j_run_query_pandas(query)\n",
    "    \n",
    "    number_relationships = df.shape[0]\n",
    "    \n",
    "    print(\"-------------------------\")\n",
    "    print(\"  Nodes:\", number_nodes)\n",
    "    print(\"  Relationships:\", number_relationships)\n",
    "    print(\"-------------------------\")\n"
   ]
  },
  {
   "cell_type": "code",
   "execution_count": 7,
   "id": "01de7bce",
   "metadata": {},
   "outputs": [],
   "source": [
    "connection = psycopg2.connect(\n",
    "    user = \"postgres\",\n",
    "    password = \"ucb\",\n",
    "    host = \"postgres\",\n",
    "    port = \"5432\",\n",
    "    database = \"postgres\"\n",
    ")"
   ]
  },
  {
   "cell_type": "code",
   "execution_count": 8,
   "id": "16607716",
   "metadata": {},
   "outputs": [],
   "source": [
    "cursor = connection.cursor()"
   ]
  },
  {
   "cell_type": "markdown",
   "id": "97c2962b",
   "metadata": {},
   "source": [
    "## Clean up Neo4j"
   ]
  },
  {
   "cell_type": "code",
   "execution_count": 9,
   "id": "b7403f53",
   "metadata": {},
   "outputs": [],
   "source": [
    "# wipe out the database\n",
    "my_neo4j_wipe_out_database()"
   ]
  },
  {
   "cell_type": "code",
   "execution_count": 10,
   "id": "a6774baa",
   "metadata": {
    "scrolled": true
   },
   "outputs": [
    {
     "name": "stdout",
     "output_type": "stream",
     "text": [
      "-------------------------\n",
      "  Nodes: 0\n",
      "  Relationships: 0\n",
      "-------------------------\n"
     ]
    }
   ],
   "source": [
    "# verify number of nodes and relationships\n",
    "my_neo4j_number_nodes_relationships()"
   ]
  },
  {
   "cell_type": "markdown",
   "id": "ad4948a4",
   "metadata": {},
   "source": [
    "##  Create Nodes\n",
    "- create node for Movie titles\n",
    "- create node for Users\n",
    "- create node for Genres (from a list) "
   ]
  },
  {
   "cell_type": "code",
   "execution_count": 11,
   "id": "9a0090cd",
   "metadata": {},
   "outputs": [],
   "source": [
    "# define a funciton to create nodes for movieid\n",
    "# come back later and see if you want nodes to display titles \n",
    "# unsure if I can make this scale to different nodes I want to create\n",
    "\n",
    "def my_neo4j_create_node(movieid):\n",
    "    \"create a node with label movie\"\n",
    "    \n",
    "    query = \"\"\"\n",
    "    \n",
    "    CREATE (:movie {name: $movieid})\n",
    "    \n",
    "    \"\"\"\n",
    "    \n",
    "    session.run(query, movieid=movieid)"
   ]
  },
  {
   "cell_type": "code",
   "execution_count": 12,
   "id": "10b02b4f",
   "metadata": {},
   "outputs": [],
   "source": [
    "connection.rollback()\n",
    "\n",
    "query = \"\"\"\n",
    "\n",
    "select movieid::int\n",
    "from movies\n",
    "order by movieid\n",
    "\n",
    "\"\"\"\n",
    "\n",
    "cursor.execute(query)\n",
    "\n",
    "connection.rollback()\n",
    "\n",
    "rows = cursor.fetchall()\n",
    "\n",
    "for row in rows:\n",
    "    \n",
    "    movieid = row[0]\n",
    "    \n",
    "    my_neo4j_create_node(movieid)"
   ]
  },
  {
   "cell_type": "code",
   "execution_count": 15,
   "id": "0328ba10",
   "metadata": {},
   "outputs": [],
   "source": [
    "# define a funciton to create nodes for movie titles\n",
    "# unsure if I can make this scale to different nodes I want to create\n",
    "\n",
    "def my_neo4j_create_node_users(userid):\n",
    "    \"create a node with label user\"\n",
    "    \n",
    "    query = \"\"\"\n",
    "    \n",
    "    CREATE (:user {name: $userid})\n",
    "    \n",
    "    \"\"\"\n",
    "    \n",
    "    session.run(query, userid=userid)"
   ]
  },
  {
   "cell_type": "code",
   "execution_count": 16,
   "id": "bed39e17",
   "metadata": {},
   "outputs": [],
   "source": [
    "connection.rollback()\n",
    "\n",
    "query = \"\"\"\n",
    "\n",
    "select distinct userid::int as userid\n",
    "from ratings\n",
    "order by 1\n",
    "\n",
    "\"\"\"\n",
    "\n",
    "cursor.execute(query)\n",
    "\n",
    "connection.rollback()\n",
    "\n",
    "rows = cursor.fetchall()\n",
    "\n",
    "for row in rows:\n",
    "    \n",
    "    userid = row[0]\n",
    "    \n",
    "    my_neo4j_create_node_users(userid)"
   ]
  },
  {
   "cell_type": "code",
   "execution_count": null,
   "id": "00c74237",
   "metadata": {},
   "outputs": [],
   "source": []
  },
  {
   "cell_type": "code",
   "execution_count": 28,
   "id": "b8ffc3a7",
   "metadata": {},
   "outputs": [],
   "source": [
    "# high_corr_series"
   ]
  },
  {
   "cell_type": "markdown",
   "id": "a921a378",
   "metadata": {},
   "source": [
    "## Create Relationships\n",
    "- Create a relationship between users and movies weighted by rating"
   ]
  },
  {
   "cell_type": "code",
   "execution_count": 17,
   "id": "55b7bc85",
   "metadata": {},
   "outputs": [],
   "source": [
    "def my_neo4j_create_relationship_one_way(userid, movieid, rating):\n",
    "    \"create a relationship one way between users and movieid with a weight of rating\"\n",
    "    \n",
    "    query = \"\"\"\n",
    "    \n",
    "    MATCH (from:user), \n",
    "          (to:movie)\n",
    "    WHERE from.name = $userid AND to.name = $movieid\n",
    "    CREATE (from)-[:RATED {rating: $rating}]->(to)\n",
    "    \n",
    "    \"\"\"\n",
    "    \n",
    "    # MATCH (u:user)-[r:RATED]->(m:movie) RETURN u, type(r), m\n",
    "    \n",
    "    session.run(query, userid=userid, movieid=movieid, rating=rating)"
   ]
  },
  {
   "cell_type": "code",
   "execution_count": 18,
   "id": "09f209fd",
   "metadata": {},
   "outputs": [],
   "source": [
    "connection.rollback()\n",
    "\n",
    "query = \"\"\"\n",
    "\n",
    "select userid::int,\n",
    "    movieid::int,\n",
    "    rating::float\n",
    "from ratings\n",
    "where movieid in (5)\n",
    "order by 1\n",
    "\n",
    "\"\"\"\n",
    "cursor.execute(query)\n",
    "\n",
    "connection.rollback()\n",
    "\n",
    "rows = cursor.fetchall()\n",
    "\n",
    "for row in rows:\n",
    "    \n",
    "    userid = int(row[0])\n",
    "    movieid = int(row[1]) \n",
    "    rating = float(row[2])\n",
    "    \n",
    "    my_neo4j_create_relationship_one_way(userid, movieid, rating)"
   ]
  },
  {
   "cell_type": "code",
   "execution_count": null,
   "id": "c6c3e7e5",
   "metadata": {},
   "outputs": [],
   "source": []
  },
  {
   "cell_type": "code",
   "execution_count": null,
   "id": "b61001c8",
   "metadata": {},
   "outputs": [],
   "source": []
  },
  {
   "cell_type": "code",
   "execution_count": null,
   "id": "67fad28f",
   "metadata": {},
   "outputs": [],
   "source": []
  },
  {
   "cell_type": "code",
   "execution_count": null,
   "id": "d44e0907",
   "metadata": {},
   "outputs": [],
   "source": []
  },
  {
   "cell_type": "markdown",
   "id": "8a43ac7a",
   "metadata": {},
   "source": [
    "## Possible additions to graph database\n",
    "- create genre nodes \n",
    "- add movie titles to the movie ID nodes \n",
    "- create a relationship between genres and movies (pay attention that it is multi-select)\n",
    "- do something with the timestamps"
   ]
  },
  {
   "cell_type": "code",
   "execution_count": 20,
   "id": "b1661f60",
   "metadata": {},
   "outputs": [
    {
     "data": {
      "text/plain": [
       "<neo4j._sync.work.result.Result at 0x7fb1077fa580>"
      ]
     },
     "execution_count": 20,
     "metadata": {},
     "output_type": "execute_result"
    }
   ],
   "source": [
    "query = \"CALL gds.graph.drop('ds_graph', false)\"\n",
    "session.run(query)\n",
    "\n",
    "query = \"CALL gds.graph.project('ds_graph', 'user', 'movie', {relationshipProperties: 'rating'})\"\n",
    "session.run(query)"
   ]
  },
  {
   "cell_type": "code",
   "execution_count": 21,
   "id": "c4680937",
   "metadata": {},
   "outputs": [
    {
     "ename": "ClientError",
     "evalue": "{code: Neo.ClientError.Procedure.ProcedureCallFailed} {message: Failed to invoke procedure `gds.graph.project`: Caused by: java.lang.IllegalArgumentException: Invalid relationship projection, one or more relationship types not found: 'movie'}",
     "output_type": "error",
     "traceback": [
      "\u001b[0;31m---------------------------------------------------------------------------\u001b[0m",
      "\u001b[0;31mClientError\u001b[0m                               Traceback (most recent call last)",
      "\u001b[0;32m/tmp/ipykernel_42/3385529746.py\u001b[0m in \u001b[0;36m<module>\u001b[0;34m\u001b[0m\n\u001b[1;32m     13\u001b[0m \u001b[0;34m\u001b[0m\u001b[0m\n\u001b[1;32m     14\u001b[0m \"\"\"\n\u001b[0;32m---> 15\u001b[0;31m \u001b[0msession\u001b[0m\u001b[0;34m.\u001b[0m\u001b[0mrun\u001b[0m\u001b[0;34m(\u001b[0m\u001b[0mquery\u001b[0m\u001b[0;34m)\u001b[0m\u001b[0;34m\u001b[0m\u001b[0;34m\u001b[0m\u001b[0m\n\u001b[0m",
      "\u001b[0;32m/opt/conda/lib/python3.9/site-packages/neo4j/_sync/work/session.py\u001b[0m in \u001b[0;36mrun\u001b[0;34m(self, query, parameters, **kwargs)\u001b[0m\n\u001b[1;32m    297\u001b[0m         \u001b[0;32mif\u001b[0m \u001b[0mself\u001b[0m\u001b[0;34m.\u001b[0m\u001b[0m_auto_result\u001b[0m\u001b[0;34m:\u001b[0m\u001b[0;34m\u001b[0m\u001b[0;34m\u001b[0m\u001b[0m\n\u001b[1;32m    298\u001b[0m             \u001b[0;31m# This will buffer upp all records for the previous auto-commit tx\u001b[0m\u001b[0;34m\u001b[0m\u001b[0;34m\u001b[0m\u001b[0m\n\u001b[0;32m--> 299\u001b[0;31m             \u001b[0mself\u001b[0m\u001b[0;34m.\u001b[0m\u001b[0m_auto_result\u001b[0m\u001b[0;34m.\u001b[0m\u001b[0m_buffer_all\u001b[0m\u001b[0;34m(\u001b[0m\u001b[0;34m)\u001b[0m\u001b[0;34m\u001b[0m\u001b[0;34m\u001b[0m\u001b[0m\n\u001b[0m\u001b[1;32m    300\u001b[0m \u001b[0;34m\u001b[0m\u001b[0m\n\u001b[1;32m    301\u001b[0m         \u001b[0;32mif\u001b[0m \u001b[0;32mnot\u001b[0m \u001b[0mself\u001b[0m\u001b[0;34m.\u001b[0m\u001b[0m_connection\u001b[0m\u001b[0;34m:\u001b[0m\u001b[0;34m\u001b[0m\u001b[0;34m\u001b[0m\u001b[0m\n",
      "\u001b[0;32m/opt/conda/lib/python3.9/site-packages/neo4j/_sync/work/result.py\u001b[0m in \u001b[0;36m_buffer_all\u001b[0;34m(self)\u001b[0m\n\u001b[1;32m    327\u001b[0m         \u001b[0;32mfrom\u001b[0m \u001b[0mthe\u001b[0m \u001b[0mconnection\u001b[0m \u001b[0mto\u001b[0m \u001b[0mthe\u001b[0m \u001b[0mbuffer\u001b[0m\u001b[0;34m.\u001b[0m\u001b[0;34m\u001b[0m\u001b[0;34m\u001b[0m\u001b[0m\n\u001b[1;32m    328\u001b[0m         \"\"\"\n\u001b[0;32m--> 329\u001b[0;31m         \u001b[0mself\u001b[0m\u001b[0;34m.\u001b[0m\u001b[0m_buffer\u001b[0m\u001b[0;34m(\u001b[0m\u001b[0;34m)\u001b[0m\u001b[0;34m\u001b[0m\u001b[0;34m\u001b[0m\u001b[0m\n\u001b[0m\u001b[1;32m    330\u001b[0m \u001b[0;34m\u001b[0m\u001b[0m\n\u001b[1;32m    331\u001b[0m     \u001b[0;32mdef\u001b[0m \u001b[0m_obtain_summary\u001b[0m\u001b[0;34m(\u001b[0m\u001b[0mself\u001b[0m\u001b[0;34m)\u001b[0m\u001b[0;34m:\u001b[0m\u001b[0;34m\u001b[0m\u001b[0;34m\u001b[0m\u001b[0m\n",
      "\u001b[0;32m/opt/conda/lib/python3.9/site-packages/neo4j/_sync/work/result.py\u001b[0m in \u001b[0;36m_buffer\u001b[0;34m(self, n)\u001b[0m\n\u001b[1;32m    313\u001b[0m             \u001b[0;32mreturn\u001b[0m\u001b[0;34m\u001b[0m\u001b[0;34m\u001b[0m\u001b[0m\n\u001b[1;32m    314\u001b[0m         \u001b[0mrecord_buffer\u001b[0m \u001b[0;34m=\u001b[0m \u001b[0mdeque\u001b[0m\u001b[0;34m(\u001b[0m\u001b[0;34m)\u001b[0m\u001b[0;34m\u001b[0m\u001b[0;34m\u001b[0m\u001b[0m\n\u001b[0;32m--> 315\u001b[0;31m         \u001b[0;32mfor\u001b[0m \u001b[0mrecord\u001b[0m \u001b[0;32min\u001b[0m \u001b[0mself\u001b[0m\u001b[0;34m:\u001b[0m\u001b[0;34m\u001b[0m\u001b[0;34m\u001b[0m\u001b[0m\n\u001b[0m\u001b[1;32m    316\u001b[0m             \u001b[0mrecord_buffer\u001b[0m\u001b[0;34m.\u001b[0m\u001b[0mappend\u001b[0m\u001b[0;34m(\u001b[0m\u001b[0mrecord\u001b[0m\u001b[0;34m)\u001b[0m\u001b[0;34m\u001b[0m\u001b[0;34m\u001b[0m\u001b[0m\n\u001b[1;32m    317\u001b[0m             \u001b[0;32mif\u001b[0m \u001b[0mn\u001b[0m \u001b[0;32mis\u001b[0m \u001b[0;32mnot\u001b[0m \u001b[0;32mNone\u001b[0m \u001b[0;32mand\u001b[0m \u001b[0mlen\u001b[0m\u001b[0;34m(\u001b[0m\u001b[0mrecord_buffer\u001b[0m\u001b[0;34m)\u001b[0m \u001b[0;34m>=\u001b[0m \u001b[0mn\u001b[0m\u001b[0;34m:\u001b[0m\u001b[0;34m\u001b[0m\u001b[0;34m\u001b[0m\u001b[0m\n",
      "\u001b[0;32m/opt/conda/lib/python3.9/site-packages/neo4j/_sync/work/result.py\u001b[0m in \u001b[0;36m__iter__\u001b[0;34m(self)\u001b[0m\n\u001b[1;32m    268\u001b[0m                 \u001b[0;32myield\u001b[0m \u001b[0mself\u001b[0m\u001b[0;34m.\u001b[0m\u001b[0m_record_buffer\u001b[0m\u001b[0;34m.\u001b[0m\u001b[0mpopleft\u001b[0m\u001b[0;34m(\u001b[0m\u001b[0;34m)\u001b[0m\u001b[0;34m\u001b[0m\u001b[0;34m\u001b[0m\u001b[0m\n\u001b[1;32m    269\u001b[0m             \u001b[0;32melif\u001b[0m \u001b[0mself\u001b[0m\u001b[0;34m.\u001b[0m\u001b[0m_streaming\u001b[0m\u001b[0;34m:\u001b[0m\u001b[0;34m\u001b[0m\u001b[0;34m\u001b[0m\u001b[0m\n\u001b[0;32m--> 270\u001b[0;31m                 \u001b[0mself\u001b[0m\u001b[0;34m.\u001b[0m\u001b[0m_connection\u001b[0m\u001b[0;34m.\u001b[0m\u001b[0mfetch_message\u001b[0m\u001b[0;34m(\u001b[0m\u001b[0;34m)\u001b[0m\u001b[0;34m\u001b[0m\u001b[0;34m\u001b[0m\u001b[0m\n\u001b[0m\u001b[1;32m    271\u001b[0m             \u001b[0;32melif\u001b[0m \u001b[0mself\u001b[0m\u001b[0;34m.\u001b[0m\u001b[0m_discarding\u001b[0m\u001b[0;34m:\u001b[0m\u001b[0;34m\u001b[0m\u001b[0;34m\u001b[0m\u001b[0m\n\u001b[1;32m    272\u001b[0m                 \u001b[0mself\u001b[0m\u001b[0;34m.\u001b[0m\u001b[0m_discard\u001b[0m\u001b[0;34m(\u001b[0m\u001b[0;34m)\u001b[0m\u001b[0;34m\u001b[0m\u001b[0;34m\u001b[0m\u001b[0m\n",
      "\u001b[0;32m/opt/conda/lib/python3.9/site-packages/neo4j/_sync/io/_common.py\u001b[0m in \u001b[0;36minner\u001b[0;34m(*args, **kwargs)\u001b[0m\n\u001b[1;32m    176\u001b[0m             \u001b[0;32mdef\u001b[0m \u001b[0minner\u001b[0m\u001b[0;34m(\u001b[0m\u001b[0;34m*\u001b[0m\u001b[0margs\u001b[0m\u001b[0;34m,\u001b[0m \u001b[0;34m**\u001b[0m\u001b[0mkwargs\u001b[0m\u001b[0;34m)\u001b[0m\u001b[0;34m:\u001b[0m\u001b[0;34m\u001b[0m\u001b[0;34m\u001b[0m\u001b[0m\n\u001b[1;32m    177\u001b[0m                 \u001b[0;32mtry\u001b[0m\u001b[0;34m:\u001b[0m\u001b[0;34m\u001b[0m\u001b[0;34m\u001b[0m\u001b[0m\n\u001b[0;32m--> 178\u001b[0;31m                     \u001b[0mfunc\u001b[0m\u001b[0;34m(\u001b[0m\u001b[0;34m*\u001b[0m\u001b[0margs\u001b[0m\u001b[0;34m,\u001b[0m \u001b[0;34m**\u001b[0m\u001b[0mkwargs\u001b[0m\u001b[0;34m)\u001b[0m\u001b[0;34m\u001b[0m\u001b[0;34m\u001b[0m\u001b[0m\n\u001b[0m\u001b[1;32m    179\u001b[0m                 \u001b[0;32mexcept\u001b[0m \u001b[0;34m(\u001b[0m\u001b[0mNeo4jError\u001b[0m\u001b[0;34m,\u001b[0m \u001b[0mServiceUnavailable\u001b[0m\u001b[0;34m,\u001b[0m \u001b[0mSessionExpired\u001b[0m\u001b[0;34m)\u001b[0m \u001b[0;32mas\u001b[0m \u001b[0mexc\u001b[0m\u001b[0;34m:\u001b[0m\u001b[0;34m\u001b[0m\u001b[0;34m\u001b[0m\u001b[0m\n\u001b[1;32m    180\u001b[0m                     \u001b[0;32massert\u001b[0m \u001b[0;32mnot\u001b[0m \u001b[0masyncio\u001b[0m\u001b[0;34m.\u001b[0m\u001b[0miscoroutinefunction\u001b[0m\u001b[0;34m(\u001b[0m\u001b[0mself\u001b[0m\u001b[0;34m.\u001b[0m\u001b[0m__on_error\u001b[0m\u001b[0;34m)\u001b[0m\u001b[0;34m\u001b[0m\u001b[0;34m\u001b[0m\u001b[0m\n",
      "\u001b[0;32m/opt/conda/lib/python3.9/site-packages/neo4j/_sync/io/_bolt.py\u001b[0m in \u001b[0;36mfetch_message\u001b[0;34m(self)\u001b[0m\n\u001b[1;32m    847\u001b[0m             \u001b[0mhydration_hooks\u001b[0m\u001b[0;34m=\u001b[0m\u001b[0mself\u001b[0m\u001b[0;34m.\u001b[0m\u001b[0mresponses\u001b[0m\u001b[0;34m[\u001b[0m\u001b[0;36m0\u001b[0m\u001b[0;34m]\u001b[0m\u001b[0;34m.\u001b[0m\u001b[0mhydration_hooks\u001b[0m\u001b[0;34m\u001b[0m\u001b[0;34m\u001b[0m\u001b[0m\n\u001b[1;32m    848\u001b[0m         )\n\u001b[0;32m--> 849\u001b[0;31m         \u001b[0mres\u001b[0m \u001b[0;34m=\u001b[0m \u001b[0mself\u001b[0m\u001b[0;34m.\u001b[0m\u001b[0m_process_message\u001b[0m\u001b[0;34m(\u001b[0m\u001b[0mtag\u001b[0m\u001b[0;34m,\u001b[0m \u001b[0mfields\u001b[0m\u001b[0;34m)\u001b[0m\u001b[0;34m\u001b[0m\u001b[0;34m\u001b[0m\u001b[0m\n\u001b[0m\u001b[1;32m    850\u001b[0m         \u001b[0mself\u001b[0m\u001b[0;34m.\u001b[0m\u001b[0midle_since\u001b[0m \u001b[0;34m=\u001b[0m \u001b[0mmonotonic\u001b[0m\u001b[0;34m(\u001b[0m\u001b[0;34m)\u001b[0m\u001b[0;34m\u001b[0m\u001b[0;34m\u001b[0m\u001b[0m\n\u001b[1;32m    851\u001b[0m         \u001b[0;32mreturn\u001b[0m \u001b[0mres\u001b[0m\u001b[0;34m\u001b[0m\u001b[0;34m\u001b[0m\u001b[0m\n",
      "\u001b[0;32m/opt/conda/lib/python3.9/site-packages/neo4j/_sync/io/_bolt5.py\u001b[0m in \u001b[0;36m_process_message\u001b[0;34m(self, tag, fields)\u001b[0m\n\u001b[1;32m    367\u001b[0m             \u001b[0mself\u001b[0m\u001b[0;34m.\u001b[0m\u001b[0m_server_state_manager\u001b[0m\u001b[0;34m.\u001b[0m\u001b[0mstate\u001b[0m \u001b[0;34m=\u001b[0m \u001b[0mself\u001b[0m\u001b[0;34m.\u001b[0m\u001b[0mbolt_states\u001b[0m\u001b[0;34m.\u001b[0m\u001b[0mFAILED\u001b[0m\u001b[0;34m\u001b[0m\u001b[0;34m\u001b[0m\u001b[0m\n\u001b[1;32m    368\u001b[0m             \u001b[0;32mtry\u001b[0m\u001b[0;34m:\u001b[0m\u001b[0;34m\u001b[0m\u001b[0;34m\u001b[0m\u001b[0m\n\u001b[0;32m--> 369\u001b[0;31m                 \u001b[0mresponse\u001b[0m\u001b[0;34m.\u001b[0m\u001b[0mon_failure\u001b[0m\u001b[0;34m(\u001b[0m\u001b[0msummary_metadata\u001b[0m \u001b[0;32mor\u001b[0m \u001b[0;34m{\u001b[0m\u001b[0;34m}\u001b[0m\u001b[0;34m)\u001b[0m\u001b[0;34m\u001b[0m\u001b[0;34m\u001b[0m\u001b[0m\n\u001b[0m\u001b[1;32m    370\u001b[0m             \u001b[0;32mexcept\u001b[0m \u001b[0;34m(\u001b[0m\u001b[0mServiceUnavailable\u001b[0m\u001b[0;34m,\u001b[0m \u001b[0mDatabaseUnavailable\u001b[0m\u001b[0;34m)\u001b[0m\u001b[0;34m:\u001b[0m\u001b[0;34m\u001b[0m\u001b[0;34m\u001b[0m\u001b[0m\n\u001b[1;32m    371\u001b[0m                 \u001b[0;32mif\u001b[0m \u001b[0mself\u001b[0m\u001b[0;34m.\u001b[0m\u001b[0mpool\u001b[0m\u001b[0;34m:\u001b[0m\u001b[0;34m\u001b[0m\u001b[0;34m\u001b[0m\u001b[0m\n",
      "\u001b[0;32m/opt/conda/lib/python3.9/site-packages/neo4j/_sync/io/_common.py\u001b[0m in \u001b[0;36mon_failure\u001b[0;34m(self, metadata)\u001b[0m\n\u001b[1;32m    243\u001b[0m         \u001b[0mhandler\u001b[0m \u001b[0;34m=\u001b[0m \u001b[0mself\u001b[0m\u001b[0;34m.\u001b[0m\u001b[0mhandlers\u001b[0m\u001b[0;34m.\u001b[0m\u001b[0mget\u001b[0m\u001b[0;34m(\u001b[0m\u001b[0;34m\"on_summary\"\u001b[0m\u001b[0;34m)\u001b[0m\u001b[0;34m\u001b[0m\u001b[0;34m\u001b[0m\u001b[0m\n\u001b[1;32m    244\u001b[0m         \u001b[0mUtil\u001b[0m\u001b[0;34m.\u001b[0m\u001b[0mcallback\u001b[0m\u001b[0;34m(\u001b[0m\u001b[0mhandler\u001b[0m\u001b[0;34m)\u001b[0m\u001b[0;34m\u001b[0m\u001b[0;34m\u001b[0m\u001b[0m\n\u001b[0;32m--> 245\u001b[0;31m         \u001b[0;32mraise\u001b[0m \u001b[0mNeo4jError\u001b[0m\u001b[0;34m.\u001b[0m\u001b[0mhydrate\u001b[0m\u001b[0;34m(\u001b[0m\u001b[0;34m**\u001b[0m\u001b[0mmetadata\u001b[0m\u001b[0;34m)\u001b[0m\u001b[0;34m\u001b[0m\u001b[0;34m\u001b[0m\u001b[0m\n\u001b[0m\u001b[1;32m    246\u001b[0m \u001b[0;34m\u001b[0m\u001b[0m\n\u001b[1;32m    247\u001b[0m     \u001b[0;32mdef\u001b[0m \u001b[0mon_ignored\u001b[0m\u001b[0;34m(\u001b[0m\u001b[0mself\u001b[0m\u001b[0;34m,\u001b[0m \u001b[0mmetadata\u001b[0m\u001b[0;34m=\u001b[0m\u001b[0;32mNone\u001b[0m\u001b[0;34m)\u001b[0m\u001b[0;34m:\u001b[0m\u001b[0;34m\u001b[0m\u001b[0;34m\u001b[0m\u001b[0m\n",
      "\u001b[0;31mClientError\u001b[0m: {code: Neo.ClientError.Procedure.ProcedureCallFailed} {message: Failed to invoke procedure `gds.graph.project`: Caused by: java.lang.IllegalArgumentException: Invalid relationship projection, one or more relationship types not found: 'movie'}"
     ]
    }
   ],
   "source": [
    "query = \"\"\"\n",
    "\n",
    "CALL gds.graph.project(\n",
    "    'userMovieGraph', // The name of the projected graph\n",
    "    'user',          // The node label to include in the projection\n",
    "    { \n",
    "        RATED: { \n",
    "            type: 'RATED', \n",
    "            orientation: 'UNDIRECTED' // Considering the RATED relationship as undirected for PageRank\n",
    "        } \n",
    "    }\n",
    ")\n",
    "\n",
    "\"\"\"\n",
    "session.run(query)"
   ]
  },
  {
   "cell_type": "code",
   "execution_count": 22,
   "id": "eac88a7b",
   "metadata": {},
   "outputs": [
    {
     "data": {
      "text/html": [
       "<div>\n",
       "<style scoped>\n",
       "    .dataframe tbody tr th:only-of-type {\n",
       "        vertical-align: middle;\n",
       "    }\n",
       "\n",
       "    .dataframe tbody tr th {\n",
       "        vertical-align: top;\n",
       "    }\n",
       "\n",
       "    .dataframe thead th {\n",
       "        text-align: right;\n",
       "    }\n",
       "</style>\n",
       "<table border=\"1\" class=\"dataframe\">\n",
       "  <thead>\n",
       "    <tr style=\"text-align: right;\">\n",
       "      <th></th>\n",
       "      <th>name</th>\n",
       "      <th>page_rank</th>\n",
       "    </tr>\n",
       "  </thead>\n",
       "  <tbody>\n",
       "    <tr>\n",
       "      <th>0</th>\n",
       "      <td>1</td>\n",
       "      <td>0.95</td>\n",
       "    </tr>\n",
       "    <tr>\n",
       "      <th>1</th>\n",
       "      <td>2</td>\n",
       "      <td>0.95</td>\n",
       "    </tr>\n",
       "    <tr>\n",
       "      <th>2</th>\n",
       "      <td>3</td>\n",
       "      <td>0.95</td>\n",
       "    </tr>\n",
       "    <tr>\n",
       "      <th>3</th>\n",
       "      <td>4</td>\n",
       "      <td>0.95</td>\n",
       "    </tr>\n",
       "    <tr>\n",
       "      <th>4</th>\n",
       "      <td>5</td>\n",
       "      <td>0.95</td>\n",
       "    </tr>\n",
       "    <tr>\n",
       "      <th>...</th>\n",
       "      <td>...</td>\n",
       "      <td>...</td>\n",
       "    </tr>\n",
       "    <tr>\n",
       "      <th>605</th>\n",
       "      <td>606</td>\n",
       "      <td>0.95</td>\n",
       "    </tr>\n",
       "    <tr>\n",
       "      <th>606</th>\n",
       "      <td>607</td>\n",
       "      <td>0.95</td>\n",
       "    </tr>\n",
       "    <tr>\n",
       "      <th>607</th>\n",
       "      <td>608</td>\n",
       "      <td>0.95</td>\n",
       "    </tr>\n",
       "    <tr>\n",
       "      <th>608</th>\n",
       "      <td>609</td>\n",
       "      <td>0.95</td>\n",
       "    </tr>\n",
       "    <tr>\n",
       "      <th>609</th>\n",
       "      <td>610</td>\n",
       "      <td>0.95</td>\n",
       "    </tr>\n",
       "  </tbody>\n",
       "</table>\n",
       "<p>610 rows × 2 columns</p>\n",
       "</div>"
      ],
      "text/plain": [
       "     name  page_rank\n",
       "0       1       0.95\n",
       "1       2       0.95\n",
       "2       3       0.95\n",
       "3       4       0.95\n",
       "4       5       0.95\n",
       "..    ...        ...\n",
       "605   606       0.95\n",
       "606   607       0.95\n",
       "607   608       0.95\n",
       "608   609       0.95\n",
       "609   610       0.95\n",
       "\n",
       "[610 rows x 2 columns]"
      ]
     },
     "execution_count": 22,
     "metadata": {},
     "output_type": "execute_result"
    }
   ],
   "source": [
    "query = \"\"\"\n",
    "\n",
    "CALL gds.pageRank.stream('userMovieGraph',\n",
    "                         { maxIterations: $max_iterations,\n",
    "                           dampingFactor: $damping_factor}\n",
    "                         )\n",
    "YIELD nodeId, score\n",
    "RETURN gds.util.asNode(nodeId).name AS name, score as page_rank\n",
    "ORDER BY page_rank DESC, name ASC\n",
    "\n",
    "\"\"\"\n",
    "\n",
    "max_iterations = 20\n",
    "damping_factor = 0.05\n",
    "\n",
    "my_neo4j_run_query_pandas(query, max_iterations=max_iterations, damping_factor=damping_factor)\n"
   ]
  }
 ],
 "metadata": {
  "kernelspec": {
   "display_name": "Python 3 (ipykernel)",
   "language": "python",
   "name": "python3"
  },
  "language_info": {
   "codemirror_mode": {
    "name": "ipython",
    "version": 3
   },
   "file_extension": ".py",
   "mimetype": "text/x-python",
   "name": "python",
   "nbconvert_exporter": "python",
   "pygments_lexer": "ipython3",
   "version": "3.9.7"
  }
 },
 "nbformat": 4,
 "nbformat_minor": 5
}
